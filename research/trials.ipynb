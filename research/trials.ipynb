{
 "cells": [
  {
   "cell_type": "code",
   "execution_count": null,
   "metadata": {},
   "outputs": [],
   "source": [
    "#dataset link from gdrive - https://drive.google.com/file/d/1CqdxNzwyxcwfnvwHsEwUj_PwnnafHI2e/view?usp=sharing"
   ]
  },
  {
   "cell_type": "markdown",
   "metadata": {},
   "source": [
    "# Download data from gdrive"
   ]
  },
  {
   "cell_type": "code",
   "execution_count": 1,
   "metadata": {},
   "outputs": [],
   "source": [
    "import gdown\n",
    "url = 'https://drive.google.com/file/d/1CqdxNzwyxcwfnvwHsEwUj_PwnnafHI2e/view?usp=sharing'"
   ]
  },
  {
   "cell_type": "code",
   "execution_count": 4,
   "metadata": {},
   "outputs": [],
   "source": [
    "file_id = url.split('/')[-2]"
   ]
  },
  {
   "cell_type": "code",
   "execution_count": 6,
   "metadata": {},
   "outputs": [
    {
     "name": "stderr",
     "output_type": "stream",
     "text": [
      "Downloading...\n",
      "From (original): https://drive.google.com/uc?export=download&id=1CqdxNzwyxcwfnvwHsEwUj_PwnnafHI2e\n",
      "From (redirected): https://drive.google.com/uc?export=download&id=1CqdxNzwyxcwfnvwHsEwUj_PwnnafHI2e&confirm=t&uuid=0866a2fc-36e5-44c8-9f48-ddc147d71eea\n",
      "To: /Users/sairoopesh/Documents/projects/kidney-disease-classification/research/kidney_ct_scan_data.zip\n",
      "100%|██████████| 1.63G/1.63G [02:47<00:00, 9.70MB/s]\n"
     ]
    },
    {
     "data": {
      "text/plain": [
       "'kidney_ct_scan_data.zip'"
      ]
     },
     "execution_count": 6,
     "metadata": {},
     "output_type": "execute_result"
    }
   ],
   "source": [
    "prefix_url = 'https://drive.google.com/uc?export=download&id='\n",
    "gdown.download(prefix_url+file_id, 'kidney_ct_scan_data.zip')"
   ]
  },
  {
   "cell_type": "code",
   "execution_count": null,
   "metadata": {},
   "outputs": [],
   "source": []
  }
 ],
 "metadata": {
  "kernelspec": {
   "display_name": "kidney_venv",
   "language": "python",
   "name": "python3"
  },
  "language_info": {
   "codemirror_mode": {
    "name": "ipython",
    "version": 3
   },
   "file_extension": ".py",
   "mimetype": "text/x-python",
   "name": "python",
   "nbconvert_exporter": "python",
   "pygments_lexer": "ipython3",
   "version": "3.8.18"
  }
 },
 "nbformat": 4,
 "nbformat_minor": 2
}
